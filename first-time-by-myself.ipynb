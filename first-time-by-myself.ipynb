{
  "nbformat": 4,
  "nbformat_minor": 0,
  "metadata": {
    "colab": {
      "name": "Untitled15.ipynb",
      "provenance": [],
      "authorship_tag": "ABX9TyPVgGnfoO07i2g/eDsxcDcz",
      "include_colab_link": true
    },
    "kernelspec": {
      "name": "python3",
      "display_name": "Python 3"
    }
  },
  "cells": [
    {
      "cell_type": "markdown",
      "metadata": {
        "id": "view-in-github",
        "colab_type": "text"
      },
      "source": [
        "<a href=\"https://colab.research.google.com/github/yehochanan358/DataScienceVisualization/blob/master/first-time-by-myself.ipynb\" target=\"_parent\"><img src=\"https://colab.research.google.com/assets/colab-badge.svg\" alt=\"Open In Colab\"/></a>"
      ]
    },
    {
      "cell_type": "code",
      "metadata": {
        "id": "oCv4MVMxY4I6",
        "colab_type": "code",
        "colab": {}
      },
      "source": [
        "import numpy as np\n",
        "import pandas as pd   #Pandas is used \n",
        "import matplotlib as  mpl\n",
        "import matplotlib.pyplot as plt\n",
        "%matplotlib inline"
      ],
      "execution_count": 0,
      "outputs": []
    },
    {
      "cell_type": "code",
      "metadata": {
        "id": "-CMvzyQeY6vj",
        "colab_type": "code",
        "colab": {}
      },
      "source": [
        "raw_csv_data = pd.read_csv('https://raw.githubusercontent.com/yehochanan358/DataScienceVisualization/master/championsdata.csv')"
      ],
      "execution_count": 0,
      "outputs": []
    },
    {
      "cell_type": "code",
      "metadata": {
        "id": "u5XasA36BMa6",
        "colab_type": "code",
        "colab": {}
      },
      "source": [
        "champions = raw_csv_data"
      ],
      "execution_count": 0,
      "outputs": []
    },
    {
      "cell_type": "code",
      "metadata": {
        "id": "-RVxvRCKZye8",
        "colab_type": "code",
        "colab": {
          "base_uri": "https://localhost:8080/",
          "height": 419
        },
        "outputId": "82518d99-a769-4a17-c75d-de7b7409e580"
      },
      "source": [
        "champions"
      ],
      "execution_count": 23,
      "outputs": [
        {
          "output_type": "execute_result",
          "data": {
            "text/html": [
              "<div>\n",
              "<style scoped>\n",
              "    .dataframe tbody tr th:only-of-type {\n",
              "        vertical-align: middle;\n",
              "    }\n",
              "\n",
              "    .dataframe tbody tr th {\n",
              "        vertical-align: top;\n",
              "    }\n",
              "\n",
              "    .dataframe thead th {\n",
              "        text-align: right;\n",
              "    }\n",
              "</style>\n",
              "<table border=\"1\" class=\"dataframe\">\n",
              "  <thead>\n",
              "    <tr style=\"text-align: right;\">\n",
              "      <th></th>\n",
              "      <th>Year</th>\n",
              "      <th>Team</th>\n",
              "      <th>Game</th>\n",
              "      <th>Win</th>\n",
              "      <th>Home</th>\n",
              "      <th>MP</th>\n",
              "      <th>FG</th>\n",
              "      <th>FGA</th>\n",
              "      <th>FGP</th>\n",
              "      <th>TP</th>\n",
              "      <th>TPA</th>\n",
              "      <th>TPP</th>\n",
              "      <th>FT</th>\n",
              "      <th>FTA</th>\n",
              "      <th>FTP</th>\n",
              "      <th>ORB</th>\n",
              "      <th>DRB</th>\n",
              "      <th>TRB</th>\n",
              "      <th>AST</th>\n",
              "      <th>STL</th>\n",
              "      <th>BLK</th>\n",
              "      <th>TOV</th>\n",
              "      <th>PF</th>\n",
              "      <th>PTS</th>\n",
              "    </tr>\n",
              "  </thead>\n",
              "  <tbody>\n",
              "    <tr>\n",
              "      <th>0</th>\n",
              "      <td>1980</td>\n",
              "      <td>Lakers</td>\n",
              "      <td>1</td>\n",
              "      <td>1</td>\n",
              "      <td>1</td>\n",
              "      <td>240</td>\n",
              "      <td>48</td>\n",
              "      <td>89</td>\n",
              "      <td>0.539</td>\n",
              "      <td>0</td>\n",
              "      <td>0</td>\n",
              "      <td>NaN</td>\n",
              "      <td>13</td>\n",
              "      <td>15</td>\n",
              "      <td>0.867</td>\n",
              "      <td>12</td>\n",
              "      <td>31</td>\n",
              "      <td>43</td>\n",
              "      <td>30</td>\n",
              "      <td>5</td>\n",
              "      <td>9</td>\n",
              "      <td>17</td>\n",
              "      <td>24</td>\n",
              "      <td>109</td>\n",
              "    </tr>\n",
              "    <tr>\n",
              "      <th>1</th>\n",
              "      <td>1980</td>\n",
              "      <td>Lakers</td>\n",
              "      <td>2</td>\n",
              "      <td>0</td>\n",
              "      <td>1</td>\n",
              "      <td>240</td>\n",
              "      <td>48</td>\n",
              "      <td>95</td>\n",
              "      <td>0.505</td>\n",
              "      <td>0</td>\n",
              "      <td>1</td>\n",
              "      <td>0.000</td>\n",
              "      <td>8</td>\n",
              "      <td>12</td>\n",
              "      <td>0.667</td>\n",
              "      <td>15</td>\n",
              "      <td>37</td>\n",
              "      <td>52</td>\n",
              "      <td>32</td>\n",
              "      <td>12</td>\n",
              "      <td>7</td>\n",
              "      <td>26</td>\n",
              "      <td>27</td>\n",
              "      <td>104</td>\n",
              "    </tr>\n",
              "    <tr>\n",
              "      <th>2</th>\n",
              "      <td>1980</td>\n",
              "      <td>Lakers</td>\n",
              "      <td>3</td>\n",
              "      <td>1</td>\n",
              "      <td>0</td>\n",
              "      <td>240</td>\n",
              "      <td>44</td>\n",
              "      <td>92</td>\n",
              "      <td>0.478</td>\n",
              "      <td>0</td>\n",
              "      <td>1</td>\n",
              "      <td>0.000</td>\n",
              "      <td>23</td>\n",
              "      <td>30</td>\n",
              "      <td>0.767</td>\n",
              "      <td>22</td>\n",
              "      <td>34</td>\n",
              "      <td>56</td>\n",
              "      <td>20</td>\n",
              "      <td>5</td>\n",
              "      <td>5</td>\n",
              "      <td>20</td>\n",
              "      <td>25</td>\n",
              "      <td>111</td>\n",
              "    </tr>\n",
              "    <tr>\n",
              "      <th>3</th>\n",
              "      <td>1980</td>\n",
              "      <td>Lakers</td>\n",
              "      <td>4</td>\n",
              "      <td>0</td>\n",
              "      <td>0</td>\n",
              "      <td>240</td>\n",
              "      <td>44</td>\n",
              "      <td>93</td>\n",
              "      <td>0.473</td>\n",
              "      <td>0</td>\n",
              "      <td>0</td>\n",
              "      <td>NaN</td>\n",
              "      <td>14</td>\n",
              "      <td>19</td>\n",
              "      <td>0.737</td>\n",
              "      <td>18</td>\n",
              "      <td>31</td>\n",
              "      <td>49</td>\n",
              "      <td>23</td>\n",
              "      <td>12</td>\n",
              "      <td>6</td>\n",
              "      <td>19</td>\n",
              "      <td>22</td>\n",
              "      <td>102</td>\n",
              "    </tr>\n",
              "    <tr>\n",
              "      <th>4</th>\n",
              "      <td>1980</td>\n",
              "      <td>Lakers</td>\n",
              "      <td>5</td>\n",
              "      <td>1</td>\n",
              "      <td>1</td>\n",
              "      <td>240</td>\n",
              "      <td>41</td>\n",
              "      <td>91</td>\n",
              "      <td>0.451</td>\n",
              "      <td>0</td>\n",
              "      <td>0</td>\n",
              "      <td>NaN</td>\n",
              "      <td>26</td>\n",
              "      <td>33</td>\n",
              "      <td>0.788</td>\n",
              "      <td>19</td>\n",
              "      <td>37</td>\n",
              "      <td>56</td>\n",
              "      <td>28</td>\n",
              "      <td>7</td>\n",
              "      <td>6</td>\n",
              "      <td>21</td>\n",
              "      <td>27</td>\n",
              "      <td>108</td>\n",
              "    </tr>\n",
              "    <tr>\n",
              "      <th>...</th>\n",
              "      <td>...</td>\n",
              "      <td>...</td>\n",
              "      <td>...</td>\n",
              "      <td>...</td>\n",
              "      <td>...</td>\n",
              "      <td>...</td>\n",
              "      <td>...</td>\n",
              "      <td>...</td>\n",
              "      <td>...</td>\n",
              "      <td>...</td>\n",
              "      <td>...</td>\n",
              "      <td>...</td>\n",
              "      <td>...</td>\n",
              "      <td>...</td>\n",
              "      <td>...</td>\n",
              "      <td>...</td>\n",
              "      <td>...</td>\n",
              "      <td>...</td>\n",
              "      <td>...</td>\n",
              "      <td>...</td>\n",
              "      <td>...</td>\n",
              "      <td>...</td>\n",
              "      <td>...</td>\n",
              "      <td>...</td>\n",
              "    </tr>\n",
              "    <tr>\n",
              "      <th>215</th>\n",
              "      <td>2017</td>\n",
              "      <td>Warriors</td>\n",
              "      <td>5</td>\n",
              "      <td>1</td>\n",
              "      <td>1</td>\n",
              "      <td>240</td>\n",
              "      <td>46</td>\n",
              "      <td>90</td>\n",
              "      <td>0.511</td>\n",
              "      <td>14</td>\n",
              "      <td>38</td>\n",
              "      <td>0.368</td>\n",
              "      <td>23</td>\n",
              "      <td>28</td>\n",
              "      <td>0.821</td>\n",
              "      <td>13</td>\n",
              "      <td>29</td>\n",
              "      <td>42</td>\n",
              "      <td>27</td>\n",
              "      <td>8</td>\n",
              "      <td>2</td>\n",
              "      <td>13</td>\n",
              "      <td>24</td>\n",
              "      <td>129</td>\n",
              "    </tr>\n",
              "    <tr>\n",
              "      <th>216</th>\n",
              "      <td>2018</td>\n",
              "      <td>Warriors</td>\n",
              "      <td>1</td>\n",
              "      <td>1</td>\n",
              "      <td>1</td>\n",
              "      <td>265</td>\n",
              "      <td>46</td>\n",
              "      <td>90</td>\n",
              "      <td>0.511</td>\n",
              "      <td>13</td>\n",
              "      <td>36</td>\n",
              "      <td>0.361</td>\n",
              "      <td>19</td>\n",
              "      <td>20</td>\n",
              "      <td>0.950</td>\n",
              "      <td>4</td>\n",
              "      <td>34</td>\n",
              "      <td>38</td>\n",
              "      <td>31</td>\n",
              "      <td>10</td>\n",
              "      <td>6</td>\n",
              "      <td>7</td>\n",
              "      <td>18</td>\n",
              "      <td>124</td>\n",
              "    </tr>\n",
              "    <tr>\n",
              "      <th>217</th>\n",
              "      <td>2018</td>\n",
              "      <td>Warriors</td>\n",
              "      <td>2</td>\n",
              "      <td>1</td>\n",
              "      <td>1</td>\n",
              "      <td>240</td>\n",
              "      <td>47</td>\n",
              "      <td>82</td>\n",
              "      <td>0.573</td>\n",
              "      <td>15</td>\n",
              "      <td>36</td>\n",
              "      <td>0.417</td>\n",
              "      <td>13</td>\n",
              "      <td>21</td>\n",
              "      <td>0.619</td>\n",
              "      <td>7</td>\n",
              "      <td>34</td>\n",
              "      <td>41</td>\n",
              "      <td>28</td>\n",
              "      <td>3</td>\n",
              "      <td>8</td>\n",
              "      <td>12</td>\n",
              "      <td>25</td>\n",
              "      <td>122</td>\n",
              "    </tr>\n",
              "    <tr>\n",
              "      <th>218</th>\n",
              "      <td>2018</td>\n",
              "      <td>Warriors</td>\n",
              "      <td>3</td>\n",
              "      <td>1</td>\n",
              "      <td>0</td>\n",
              "      <td>240</td>\n",
              "      <td>42</td>\n",
              "      <td>81</td>\n",
              "      <td>0.519</td>\n",
              "      <td>9</td>\n",
              "      <td>26</td>\n",
              "      <td>0.346</td>\n",
              "      <td>17</td>\n",
              "      <td>19</td>\n",
              "      <td>0.895</td>\n",
              "      <td>6</td>\n",
              "      <td>31</td>\n",
              "      <td>37</td>\n",
              "      <td>27</td>\n",
              "      <td>6</td>\n",
              "      <td>5</td>\n",
              "      <td>10</td>\n",
              "      <td>20</td>\n",
              "      <td>110</td>\n",
              "    </tr>\n",
              "    <tr>\n",
              "      <th>219</th>\n",
              "      <td>2018</td>\n",
              "      <td>Warriors</td>\n",
              "      <td>4</td>\n",
              "      <td>1</td>\n",
              "      <td>0</td>\n",
              "      <td>240</td>\n",
              "      <td>39</td>\n",
              "      <td>86</td>\n",
              "      <td>0.453</td>\n",
              "      <td>14</td>\n",
              "      <td>38</td>\n",
              "      <td>0.368</td>\n",
              "      <td>16</td>\n",
              "      <td>16</td>\n",
              "      <td>1.000</td>\n",
              "      <td>10</td>\n",
              "      <td>34</td>\n",
              "      <td>44</td>\n",
              "      <td>25</td>\n",
              "      <td>7</td>\n",
              "      <td>13</td>\n",
              "      <td>8</td>\n",
              "      <td>24</td>\n",
              "      <td>108</td>\n",
              "    </tr>\n",
              "  </tbody>\n",
              "</table>\n",
              "<p>220 rows × 24 columns</p>\n",
              "</div>"
            ],
            "text/plain": [
              "     Year      Team  Game  Win  Home   MP  FG  ...  TRB  AST  STL  BLK  TOV  PF  PTS\n",
              "0    1980    Lakers     1    1     1  240  48  ...   43   30    5    9   17  24  109\n",
              "1    1980    Lakers     2    0     1  240  48  ...   52   32   12    7   26  27  104\n",
              "2    1980    Lakers     3    1     0  240  44  ...   56   20    5    5   20  25  111\n",
              "3    1980    Lakers     4    0     0  240  44  ...   49   23   12    6   19  22  102\n",
              "4    1980    Lakers     5    1     1  240  41  ...   56   28    7    6   21  27  108\n",
              "..    ...       ...   ...  ...   ...  ...  ..  ...  ...  ...  ...  ...  ...  ..  ...\n",
              "215  2017  Warriors     5    1     1  240  46  ...   42   27    8    2   13  24  129\n",
              "216  2018  Warriors     1    1     1  265  46  ...   38   31   10    6    7  18  124\n",
              "217  2018  Warriors     2    1     1  240  47  ...   41   28    3    8   12  25  122\n",
              "218  2018  Warriors     3    1     0  240  42  ...   37   27    6    5   10  20  110\n",
              "219  2018  Warriors     4    1     0  240  39  ...   44   25    7   13    8  24  108\n",
              "\n",
              "[220 rows x 24 columns]"
            ]
          },
          "metadata": {
            "tags": []
          },
          "execution_count": 23
        }
      ]
    },
    {
      "cell_type": "code",
      "metadata": {
        "id": "PuV8621jC3Fo",
        "colab_type": "code",
        "colab": {
          "base_uri": "https://localhost:8080/",
          "height": 34
        },
        "outputId": "c9771b4b-f91b-430a-8684-b36d748d46ca"
      },
      "source": [
        "champions.plot"
      ],
      "execution_count": 24,
      "outputs": [
        {
          "output_type": "execute_result",
          "data": {
            "text/plain": [
              "<pandas.plotting._core.PlotAccessor object at 0x7f870811fcc0>"
            ]
          },
          "metadata": {
            "tags": []
          },
          "execution_count": 24
        }
      ]
    },
    {
      "cell_type": "code",
      "metadata": {
        "id": "9lTHv8-BD9Sa",
        "colab_type": "code",
        "colab": {
          "base_uri": "https://localhost:8080/",
          "height": 68
        },
        "outputId": "0f756172-0ca3-499c-edb3-2d9c32829cec"
      },
      "source": [
        "champions.columns.values"
      ],
      "execution_count": 25,
      "outputs": [
        {
          "output_type": "execute_result",
          "data": {
            "text/plain": [
              "array(['Year', 'Team', 'Game', 'Win', 'Home', 'MP', 'FG', 'FGA', 'FGP',\n",
              "       'TP', 'TPA', 'TPP', 'FT', 'FTA', 'FTP', 'ORB', 'DRB', 'TRB', 'AST',\n",
              "       'STL', 'BLK', 'TOV', 'PF', 'PTS'], dtype=object)"
            ]
          },
          "metadata": {
            "tags": []
          },
          "execution_count": 25
        }
      ]
    },
    {
      "cell_type": "code",
      "metadata": {
        "id": "895mweMoDQst",
        "colab_type": "code",
        "colab": {
          "base_uri": "https://localhost:8080/",
          "height": 279
        },
        "outputId": "9654633d-43d6-4faa-b074-d45d4f00d0f1"
      },
      "source": [
        "champions1 = champions.plot.line (x= \"FGA\", y = \"PTS\")"
      ],
      "execution_count": 32,
      "outputs": [
        {
          "output_type": "display_data",
          "data": {
            "image/png": "[encoded data removed]",
            "text/plain": [
              "<Figure size 432x288 with 1 Axes>"
            ]
          },
          "metadata": {
            "tags": []
          }
        }
      ]
    },
    {
      "cell_type": "code",
      "metadata": {
        "id": "eNBP06pcELRS",
        "colab_type": "code",
        "colab": {}
      },
      "source": [
        ""
      ],
      "execution_count": 0,
      "outputs": []
    }
  ]
}